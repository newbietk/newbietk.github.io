{
 "cells": [
  {
   "cell_type": "markdown",
   "metadata": {},
   "source": [
    "# 全国计算机应用大赛住房租金预测大数据比赛"
   ]
  },
  {
   "cell_type": "code",
   "execution_count": 1,
   "metadata": {},
   "outputs": [],
   "source": [
    "import pandas as pd\n",
    "import numpy as np\n",
    "import matplotlib.pyplot as plt\n",
    "import xgboost as xgb\n",
    "#import lightgbm as lgb\n",
    "import seaborn as sns\n",
    "import math\n",
    "from sklearn.model_selection import KFold, cross_val_score, train_test_split\n",
    "from sklearn.model_selection import GridSearchCV"
   ]
  },
  {
   "cell_type": "raw",
   "metadata": {},
   "source": [
    "上面代码模块是需要用到的python第三方库"
   ]
  },
  {
   "cell_type": "code",
   "execution_count": 2,
   "metadata": {},
   "outputs": [
    {
     "data": {
      "text/html": [
       "<div>\n",
       "<style scoped>\n",
       "    .dataframe tbody tr th:only-of-type {\n",
       "        vertical-align: middle;\n",
       "    }\n",
       "\n",
       "    .dataframe tbody tr th {\n",
       "        vertical-align: top;\n",
       "    }\n",
       "\n",
       "    .dataframe thead th {\n",
       "        text-align: right;\n",
       "    }\n",
       "</style>\n",
       "<table border=\"1\" class=\"dataframe\">\n",
       "  <thead>\n",
       "    <tr style=\"text-align: right;\">\n",
       "      <th></th>\n",
       "      <th>时间</th>\n",
       "      <th>小区名</th>\n",
       "      <th>小区房屋出租数量</th>\n",
       "      <th>楼层</th>\n",
       "      <th>总楼层</th>\n",
       "      <th>房屋面积</th>\n",
       "      <th>居住状态</th>\n",
       "      <th>卧室数量</th>\n",
       "      <th>厅的数量</th>\n",
       "      <th>卫的数量</th>\n",
       "      <th>出租方式</th>\n",
       "      <th>区</th>\n",
       "      <th>位置</th>\n",
       "      <th>地铁线路</th>\n",
       "      <th>地铁站点</th>\n",
       "      <th>距离</th>\n",
       "      <th>装修情况</th>\n",
       "      <th>月租金</th>\n",
       "    </tr>\n",
       "  </thead>\n",
       "  <tbody>\n",
       "    <tr>\n",
       "      <th>count</th>\n",
       "      <td>196539.000000</td>\n",
       "      <td>196539.000000</td>\n",
       "      <td>195538.000000</td>\n",
       "      <td>196539.000000</td>\n",
       "      <td>196539.000000</td>\n",
       "      <td>196539.000000</td>\n",
       "      <td>20138.000000</td>\n",
       "      <td>196539.000000</td>\n",
       "      <td>196539.000000</td>\n",
       "      <td>196539.000000</td>\n",
       "      <td>24230.000000</td>\n",
       "      <td>196508.000000</td>\n",
       "      <td>196508.000000</td>\n",
       "      <td>91778.000000</td>\n",
       "      <td>91778.000000</td>\n",
       "      <td>91778.000000</td>\n",
       "      <td>18492.000000</td>\n",
       "      <td>196539.000000</td>\n",
       "    </tr>\n",
       "    <tr>\n",
       "      <th>mean</th>\n",
       "      <td>2.115229</td>\n",
       "      <td>3224.116562</td>\n",
       "      <td>0.124151</td>\n",
       "      <td>0.955449</td>\n",
       "      <td>0.408711</td>\n",
       "      <td>0.013139</td>\n",
       "      <td>2.725196</td>\n",
       "      <td>2.236635</td>\n",
       "      <td>1.299625</td>\n",
       "      <td>1.223818</td>\n",
       "      <td>0.900289</td>\n",
       "      <td>7.905139</td>\n",
       "      <td>67.945982</td>\n",
       "      <td>3.284850</td>\n",
       "      <td>57.493735</td>\n",
       "      <td>0.551202</td>\n",
       "      <td>3.589228</td>\n",
       "      <td>7.949313</td>\n",
       "    </tr>\n",
       "    <tr>\n",
       "      <th>std</th>\n",
       "      <td>0.786980</td>\n",
       "      <td>2023.073726</td>\n",
       "      <td>0.133299</td>\n",
       "      <td>0.851511</td>\n",
       "      <td>0.183100</td>\n",
       "      <td>0.008104</td>\n",
       "      <td>0.667763</td>\n",
       "      <td>0.896961</td>\n",
       "      <td>0.613169</td>\n",
       "      <td>0.487234</td>\n",
       "      <td>0.299621</td>\n",
       "      <td>4.025696</td>\n",
       "      <td>43.522394</td>\n",
       "      <td>1.477147</td>\n",
       "      <td>35.191414</td>\n",
       "      <td>0.247268</td>\n",
       "      <td>1.996912</td>\n",
       "      <td>6.310609</td>\n",
       "    </tr>\n",
       "    <tr>\n",
       "      <th>min</th>\n",
       "      <td>1.000000</td>\n",
       "      <td>0.000000</td>\n",
       "      <td>0.007812</td>\n",
       "      <td>0.000000</td>\n",
       "      <td>0.000000</td>\n",
       "      <td>0.000000</td>\n",
       "      <td>1.000000</td>\n",
       "      <td>0.000000</td>\n",
       "      <td>0.000000</td>\n",
       "      <td>0.000000</td>\n",
       "      <td>0.000000</td>\n",
       "      <td>0.000000</td>\n",
       "      <td>0.000000</td>\n",
       "      <td>1.000000</td>\n",
       "      <td>1.000000</td>\n",
       "      <td>0.001667</td>\n",
       "      <td>1.000000</td>\n",
       "      <td>0.000000</td>\n",
       "    </tr>\n",
       "    <tr>\n",
       "      <th>25%</th>\n",
       "      <td>1.000000</td>\n",
       "      <td>1388.000000</td>\n",
       "      <td>0.039062</td>\n",
       "      <td>0.000000</td>\n",
       "      <td>0.290909</td>\n",
       "      <td>0.009268</td>\n",
       "      <td>3.000000</td>\n",
       "      <td>2.000000</td>\n",
       "      <td>1.000000</td>\n",
       "      <td>1.000000</td>\n",
       "      <td>1.000000</td>\n",
       "      <td>4.000000</td>\n",
       "      <td>33.000000</td>\n",
       "      <td>2.000000</td>\n",
       "      <td>23.000000</td>\n",
       "      <td>0.356667</td>\n",
       "      <td>2.000000</td>\n",
       "      <td>4.923599</td>\n",
       "    </tr>\n",
       "    <tr>\n",
       "      <th>50%</th>\n",
       "      <td>2.000000</td>\n",
       "      <td>3086.000000</td>\n",
       "      <td>0.082031</td>\n",
       "      <td>1.000000</td>\n",
       "      <td>0.418182</td>\n",
       "      <td>0.012910</td>\n",
       "      <td>3.000000</td>\n",
       "      <td>2.000000</td>\n",
       "      <td>1.000000</td>\n",
       "      <td>1.000000</td>\n",
       "      <td>1.000000</td>\n",
       "      <td>9.000000</td>\n",
       "      <td>61.000000</td>\n",
       "      <td>4.000000</td>\n",
       "      <td>59.000000</td>\n",
       "      <td>0.554167</td>\n",
       "      <td>2.000000</td>\n",
       "      <td>6.621392</td>\n",
       "    </tr>\n",
       "    <tr>\n",
       "      <th>75%</th>\n",
       "      <td>3.000000</td>\n",
       "      <td>5199.000000</td>\n",
       "      <td>0.160156</td>\n",
       "      <td>2.000000</td>\n",
       "      <td>0.563636</td>\n",
       "      <td>0.014896</td>\n",
       "      <td>3.000000</td>\n",
       "      <td>3.000000</td>\n",
       "      <td>2.000000</td>\n",
       "      <td>1.000000</td>\n",
       "      <td>1.000000</td>\n",
       "      <td>11.000000</td>\n",
       "      <td>103.000000</td>\n",
       "      <td>5.000000</td>\n",
       "      <td>87.000000</td>\n",
       "      <td>0.745833</td>\n",
       "      <td>6.000000</td>\n",
       "      <td>8.998302</td>\n",
       "    </tr>\n",
       "    <tr>\n",
       "      <th>max</th>\n",
       "      <td>3.000000</td>\n",
       "      <td>6627.000000</td>\n",
       "      <td>1.000000</td>\n",
       "      <td>2.000000</td>\n",
       "      <td>1.000000</td>\n",
       "      <td>1.000000</td>\n",
       "      <td>3.000000</td>\n",
       "      <td>11.000000</td>\n",
       "      <td>8.000000</td>\n",
       "      <td>8.000000</td>\n",
       "      <td>1.000000</td>\n",
       "      <td>14.000000</td>\n",
       "      <td>152.000000</td>\n",
       "      <td>5.000000</td>\n",
       "      <td>119.000000</td>\n",
       "      <td>1.000000</td>\n",
       "      <td>6.000000</td>\n",
       "      <td>100.000000</td>\n",
       "    </tr>\n",
       "  </tbody>\n",
       "</table>\n",
       "</div>"
      ],
      "text/plain": [
       "                  时间            小区名       小区房屋出租数量             楼层  \\\n",
       "count  196539.000000  196539.000000  195538.000000  196539.000000   \n",
       "mean        2.115229    3224.116562       0.124151       0.955449   \n",
       "std         0.786980    2023.073726       0.133299       0.851511   \n",
       "min         1.000000       0.000000       0.007812       0.000000   \n",
       "25%         1.000000    1388.000000       0.039062       0.000000   \n",
       "50%         2.000000    3086.000000       0.082031       1.000000   \n",
       "75%         3.000000    5199.000000       0.160156       2.000000   \n",
       "max         3.000000    6627.000000       1.000000       2.000000   \n",
       "\n",
       "                 总楼层           房屋面积          居住状态           卧室数量  \\\n",
       "count  196539.000000  196539.000000  20138.000000  196539.000000   \n",
       "mean        0.408711       0.013139      2.725196       2.236635   \n",
       "std         0.183100       0.008104      0.667763       0.896961   \n",
       "min         0.000000       0.000000      1.000000       0.000000   \n",
       "25%         0.290909       0.009268      3.000000       2.000000   \n",
       "50%         0.418182       0.012910      3.000000       2.000000   \n",
       "75%         0.563636       0.014896      3.000000       3.000000   \n",
       "max         1.000000       1.000000      3.000000      11.000000   \n",
       "\n",
       "                厅的数量           卫的数量          出租方式              区  \\\n",
       "count  196539.000000  196539.000000  24230.000000  196508.000000   \n",
       "mean        1.299625       1.223818      0.900289       7.905139   \n",
       "std         0.613169       0.487234      0.299621       4.025696   \n",
       "min         0.000000       0.000000      0.000000       0.000000   \n",
       "25%         1.000000       1.000000      1.000000       4.000000   \n",
       "50%         1.000000       1.000000      1.000000       9.000000   \n",
       "75%         2.000000       1.000000      1.000000      11.000000   \n",
       "max         8.000000       8.000000      1.000000      14.000000   \n",
       "\n",
       "                  位置          地铁线路          地铁站点            距离          装修情况  \\\n",
       "count  196508.000000  91778.000000  91778.000000  91778.000000  18492.000000   \n",
       "mean       67.945982      3.284850     57.493735      0.551202      3.589228   \n",
       "std        43.522394      1.477147     35.191414      0.247268      1.996912   \n",
       "min         0.000000      1.000000      1.000000      0.001667      1.000000   \n",
       "25%        33.000000      2.000000     23.000000      0.356667      2.000000   \n",
       "50%        61.000000      4.000000     59.000000      0.554167      2.000000   \n",
       "75%       103.000000      5.000000     87.000000      0.745833      6.000000   \n",
       "max       152.000000      5.000000    119.000000      1.000000      6.000000   \n",
       "\n",
       "                 月租金  \n",
       "count  196539.000000  \n",
       "mean        7.949313  \n",
       "std         6.310609  \n",
       "min         0.000000  \n",
       "25%         4.923599  \n",
       "50%         6.621392  \n",
       "75%         8.998302  \n",
       "max       100.000000  "
      ]
     },
     "execution_count": 2,
     "metadata": {},
     "output_type": "execute_result"
    }
   ],
   "source": [
    "#首先是读入文件，本题提供的文件类型是csv的\n",
    "#执行下列语句，将训练集和测试集文件写入\n",
    "train_data = pd.read_csv('train.csv')\n",
    "test_data = pd.read_csv('test.csv')\n",
    "train_data.describe() #查看几行数量"
   ]
  },
  {
   "cell_type": "raw",
   "metadata": {},
   "source": [
    "查看训练集的特征数量，特征类型"
   ]
  },
  {
   "cell_type": "code",
   "execution_count": 3,
   "metadata": {
    "scrolled": true
   },
   "outputs": [
    {
     "name": "stdout",
     "output_type": "stream",
     "text": [
      "<class 'pandas.core.frame.DataFrame'>\n",
      "RangeIndex: 196539 entries, 0 to 196538\n",
      "Data columns (total 19 columns):\n",
      "时间          196539 non-null int64\n",
      "小区名         196539 non-null int64\n",
      "小区房屋出租数量    195538 non-null float64\n",
      "楼层          196539 non-null int64\n",
      "总楼层         196539 non-null float64\n",
      "房屋面积        196539 non-null float64\n",
      "房屋朝向        196539 non-null object\n",
      "居住状态        20138 non-null float64\n",
      "卧室数量        196539 non-null int64\n",
      "厅的数量        196539 non-null int64\n",
      "卫的数量        196539 non-null int64\n",
      "出租方式        24230 non-null float64\n",
      "区           196508 non-null float64\n",
      "位置          196508 non-null float64\n",
      "地铁线路        91778 non-null float64\n",
      "地铁站点        91778 non-null float64\n",
      "距离          91778 non-null float64\n",
      "装修情况        18492 non-null float64\n",
      "月租金         196539 non-null float64\n",
      "dtypes: float64(12), int64(6), object(1)\n",
      "memory usage: 28.5+ MB\n"
     ]
    }
   ],
   "source": [
    "train_data.info()"
   ]
  },
  {
   "cell_type": "raw",
   "metadata": {},
   "source": [
    "查看一下各特征缺失值数量"
   ]
  },
  {
   "cell_type": "code",
   "execution_count": 4,
   "metadata": {},
   "outputs": [
    {
     "name": "stdout",
     "output_type": "stream",
     "text": [
      "装修情况        178047\n",
      "居住状态        176401\n",
      "出租方式        172309\n",
      "距离          104761\n",
      "地铁站点        104761\n",
      "地铁线路        104761\n",
      "小区房屋出租数量      1001\n",
      "位置              31\n",
      "区               31\n",
      "dtype: int64\n"
     ]
    }
   ],
   "source": [
    "missed_num = train_data.isnull().sum()\n",
    "print(missed_num[missed_num>0].sort_values(ascending=False))"
   ]
  },
  {
   "cell_type": "raw",
   "metadata": {},
   "source": [
    "从上面特征值缺失数量可以看出，‘装修情况’、‘居住状态’、‘出租方式’缺失了80%以上\n",
    "‘距离’，‘地铁站点’、‘地铁线路’缺失50%以上，进一步分析特征"
   ]
  },
  {
   "cell_type": "code",
   "execution_count": 5,
   "metadata": {},
   "outputs": [
    {
     "name": "stdout",
     "output_type": "stream",
     "text": [
      "月租金     1.000000\n",
      "房屋面积    0.440718\n",
      "卫的数量    0.423756\n",
      "卧室数量    0.315892\n",
      "出租方式    0.247789\n",
      "Name: 月租金, dtype: float64\n",
      "小区名     0.007568\n",
      "位置      0.006541\n",
      "时间     -0.014485\n",
      "距离     -0.075449\n",
      "居住状态   -0.075957\n",
      "Name: 月租金, dtype: float64\n"
     ]
    }
   ],
   "source": [
    "#使用corr进行相关性计算\n",
    "corr = train_data.corr()\n",
    "print(corr['月租金'].sort_values(ascending=False)[:5])\n",
    "print(corr['月租金'].sort_values(ascending=False)[-5:])"
   ]
  },
  {
   "cell_type": "raw",
   "metadata": {},
   "source": [
    "从结果中可以看到与‘月租金’相关性最高的‘房屋面积’其相关系数也不到0.5，而‘居住状态’、‘距离’、‘时间’呈现负相关，所以考虑特征组合以及特征剔除"
   ]
  },
  {
   "cell_type": "markdown",
   "metadata": {},
   "source": [
    "## 特征数据清洗"
   ]
  },
  {
   "cell_type": "raw",
   "metadata": {},
   "source": [
    "首先分析与‘月租金’相关性最高的‘房屋面积’特征，利用hist画出直方图进一步观察。"
   ]
  },
  {
   "cell_type": "code",
   "execution_count": 9,
   "metadata": {},
   "outputs": [
    {
     "data": {
      "image/png": "[encoded data removed]",
      "text/plain": [
       "<Figure size 432x288 with 1 Axes>"
      ]
     },
     "metadata": {
      "needs_background": "light"
     },
     "output_type": "display_data"
    },
    {
     "name": "stdout",
     "output_type": "stream",
     "text": [
      "SKew is: 4.61873552901576\n"
     ]
    }
   ],
   "source": [
    "price = train_data['月租金']\n",
    "plt.hist(price,color='blue')\n",
    "plt.show()\n",
    "print(\"SKew is:\",price.skew())"
   ]
  },
  {
   "cell_type": "code",
   "execution_count": 10,
   "metadata": {},
   "outputs": [
    {
     "data": {
      "image/png": "[encoded data removed]",
      "text/plain": [
       "<Figure size 432x288 with 1 Axes>"
      ]
     },
     "metadata": {
      "needs_background": "light"
     },
     "output_type": "display_data"
    }
   ],
   "source": [
    "plt.scatter(x=train_data.房屋面积,y=train_data.月租金)\n",
    "plt.xlabel(\"房屋面积\")\n",
    "plt.ylabel(\"月租金\")\n",
    "plt.show()"
   ]
  },
  {
   "cell_type": "raw",
   "metadata": {},
   "source": [
    "分析可知，‘房屋面积’与‘月租金’呈偏态分布，散点图有异常点，我们删去异常点之后再看效果"
   ]
  },
  {
   "cell_type": "code",
   "execution_count": 12,
   "metadata": {},
   "outputs": [
    {
     "name": "stderr",
     "output_type": "stream",
     "text": [
      "c:\\users\\samsung\\appdata\\local\\programs\\python\\python37\\lib\\site-packages\\ipykernel_launcher.py:6: RuntimeWarning: divide by zero encountered in log\n",
      "  \n"
     ]
    },
    {
     "data": {
      "image/png": "[encoded data removed]",
      "text/plain": [
       "<Figure size 432x288 with 1 Axes>"
      ]
     },
     "metadata": {
      "needs_background": "light"
     },
     "output_type": "display_data"
    }
   ],
   "source": [
    "#删除房屋面积大于0.2但是月租金小宇50的异常点\n",
    "train_data.drop(train_data[(train_data['房屋面积']>0.2)&\n",
    "(train_data['月租金']<50)].index,inplace=True)\n",
    "#将月租金进行对数变换\n",
    "price = train_data['月租金']\n",
    "target = np.log(price)\n",
    "#画出散点图\n",
    "plt.scatter(x = train_data['房屋面积'],y=target)\n",
    "plt.show()"
   ]
  },
  {
   "cell_type": "raw",
   "metadata": {},
   "source": [
    "发现删除异常点之后，‘房屋面积’与‘月租金’的可视化相关性更强了，下面我们再一次利用corr进行相关性分析。"
   ]
  },
  {
   "cell_type": "code",
   "execution_count": 19,
   "metadata": {},
   "outputs": [
    {
     "name": "stdout",
     "output_type": "stream",
     "text": [
      "月租金     1.00000\n",
      "房屋面积    0.59289\n",
      "Name: 月租金, dtype: float64\n"
     ]
    }
   ],
   "source": [
    "corr = train_data.corr()\n",
    "print(corr['月租金'].sort_values(ascending=False)[:2])"
   ]
  },
  {
   "cell_type": "raw",
   "metadata": {},
   "source": [
    "发现‘房屋面积’与‘月租金’的相关性系数提高了，说明删除异常点是有效的，同样对相关性系数较高的‘卧室数量’、‘卫的数量’、‘厅的数量’进行异常点剔除。"
   ]
  },
  {
   "cell_type": "code",
   "execution_count": 20,
   "metadata": {
    "scrolled": true
   },
   "outputs": [
    {
     "name": "stdout",
     "output_type": "stream",
     "text": [
      "月租金         1.000000\n",
      "房屋面积        0.592890\n",
      "卫的数量        0.423789\n",
      "卧室数量        0.315976\n",
      "出租方式        0.247789\n",
      "装修情况        0.246597\n",
      "厅的数量        0.221799\n",
      "地铁线路        0.187696\n",
      "区           0.146853\n",
      "总楼层         0.139755\n",
      "地铁站点        0.019555\n",
      "小区房屋出租数量    0.011748\n",
      "楼层          0.009543\n",
      "小区名         0.007660\n",
      "位置          0.006588\n",
      "时间         -0.014523\n",
      "距离         -0.075392\n",
      "居住状态       -0.075957\n",
      "Name: 月租金, dtype: float64\n"
     ]
    }
   ],
   "source": [
    "train_data.drop(train_data[(train_data['房屋面积']>0.6)&\n",
    "(train_data['卧室数量']<2)].index,inplace=True)\n",
    "train_data.drop(train_data[(train_data['房屋面积']>0.6)&\n",
    "(train_data['卫的数量']<2)].index,inplace=True)\n",
    "train_data.drop(train_data[(train_data['房屋面积']>0.6)&\n",
    "(train_data['厅的数量']<50)].index,inplace=True)\n",
    "#分析相关性\n",
    "corrmat = train_data.corr()\n",
    "print(corrmat['月租金'].sort_values(ascending=False))"
   ]
  },
  {
   "cell_type": "markdown",
   "metadata": {},
   "source": [
    "## 特征组合"
   ]
  },
  {
   "cell_type": "raw",
   "metadata": {},
   "source": [
    "通过对已有的特征之间进行组合，可以增加特征数量，注意这里只能改变训练集的特征数，测试集不能受到任何影响。我们提取了以下特征："
   ]
  },
  {
   "cell_type": "code",
   "execution_count": null,
   "metadata": {},
   "outputs": [],
   "source": [
    "#特征提取\n",
    "train_data['total'] = train_data['卧室数量'] + train_data['厅的数量'] + train_data['卫的数量']\n",
    "train_data['sleep_area'] = train_data['房屋面积'] * train_data['卧室数量'] / train_data['total']\n",
    "train_data['hall_area'] = train_data['房屋面积'] * train_data['厅的数量'] / train_data['total']\n",
    "train_data['wash_area'] = train_data['房屋面积'] * train_data['卫的数量'] / train_data['total']\n",
    "train_data['house_area'] = train_data['房屋面积'] / train_data['total']\n",
    "train_data['avg_area'] = train_data['小区房屋出租数量']*train_data['房屋面积']\n",
    "\n",
    "test_data['total'] = test_data['卧室数量'] + test_data['厅的数量'] + test_data['卫的数量']\n",
    "test_data['sleep_area'] = test_data['房屋面积'] * test_data['卧室数量'] / test_data['total']\n",
    "test_data['hall_area'] = test_data['房屋面积'] * test_data['厅的数量'] / test_data['total']\n",
    "test_data['wash_area'] = test_data['房屋面积'] * test_data['卫的数量'] / test_data['total']\n",
    "test_data['house_area'] = test_data['房屋面积'] / test_data['total']\n",
    "test_data['avg_area'] = test_data['小区房屋出租数量']*test_data['房屋面积']"
   ]
  },
  {
   "cell_type": "raw",
   "metadata": {},
   "source": [
    "特征组合之后我们进行数据集的合并，为模型做准备。"
   ]
  },
  {
   "cell_type": "code",
   "execution_count": null,
   "metadata": {},
   "outputs": [],
   "source": [
    "#数据集合并\n",
    "all_data = pd.concat((train_data, test_data)).reset_index(drop=True)"
   ]
  },
  {
   "cell_type": "code",
   "execution_count": null,
   "metadata": {},
   "outputs": [],
   "source": [
    "由于之前分析数据集有缺失数据，以及某些没有实际意义的特征列，我们予以剔除。"
   ]
  },
  {
   "cell_type": "code",
   "execution_count": null,
   "metadata": {},
   "outputs": [],
   "source": [
    "#合并后特征填充\n",
    "'''首先id是一个数据索引，没作用，剔除；\n",
    "   然后查看数据文件得知，时间列只有1,2,3三个属性\n",
    "   可以推断是三个月份的，其意义不大，不存在新老房之分\n",
    "   然后通过corr分析相关性可知居住状态呈负相关，剔除'''\n",
    "all_data.drop(['月租金'], axis=1, inplace=True)\n",
    "all_data.drop(['id','时间','居住状态'], axis=1, inplace=True)\n",
    "#房屋朝向用朝向出现的频率代替\n",
    "tf = all_data[['房屋朝向','房屋面积']]\n",
    "tf['count'] = 1\n",
    "tf = tf.groupby('房屋朝向').agg('sum').reset_index()\n",
    "tf.drop('房屋面积',axis =1,inplace=True)\n",
    "tf['count'] = tf['count']/len(all_data)\n",
    "all_data = pd.merge(all_data,tf,on='房屋朝向',how='left')\n",
    "all_data.drop('房屋朝向',axis=1,inplace=True)\n",
    "all_data.rename(columns={'count':'oriented'},inplace=True)\n",
    "\n",
    "#all_data['装修情况'] = all_data['装修情况'].fillna(all_data['装修情况'].mode()[0])\n",
    "#all_data['出租方式'] = all_data['出租方式'].fillna(0)\n",
    "all_data['地铁线路'] = all_data['地铁线路'].fillna(0)\n",
    "all_data['地铁站点'] = all_data['地铁站点'].fillna(0)\n",
    "all_data['距离'] = all_data['距离'].fillna(0)\n",
    "all_data['区'] = all_data['区'].fillna(all_data['区'].mode()[0])\n",
    "all_data['位置'] = all_data['位置'].fillna(all_data['位置'].mode()[0])\n",
    "all_data['小区房屋出租数量'] = all_data['小区房屋出租数量'].fillna(all_data['小区房屋出租数量'].mean())"
   ]
  },
  {
   "cell_type": "raw",
   "metadata": {},
   "source": [
    "这里说明一下，由于博主也是入门大数据比赛，对数据填充还一知半解，上述填充中针对‘装修情况’以及‘出租方式’并没有找到合适的方法进行填充，只能忽略，大家有好的方法欢迎与博主进行探讨。"
   ]
  },
  {
   "cell_type": "raw",
   "metadata": {},
   "source": [
    "下面进行数据类型的统一，本次比赛所用数据集中有float类型的，有int类型的，还有object类型的，我们将其统一为float类型数据："
   ]
  },
  {
   "cell_type": "code",
   "execution_count": null,
   "metadata": {},
   "outputs": [],
   "source": [
    "for f in all_data.columns:\n",
    "        if all_data[f].dtype != 'float64':\n",
    "            all_data[f] = all_data[f].astype('float64')"
   ]
  },
  {
   "cell_type": "markdown",
   "metadata": {},
   "source": [
    "## 模型训练"
   ]
  },
  {
   "cell_type": "raw",
   "metadata": {},
   "source": [
    "数据集已经准备完毕，下一步就是进行模型的选择以及漫长的模型训练和调参过程了。我选取了xgb这个集大成者，设置初始参数，利用GridSearchCV函数进行调参，寻找合适此数据集的最佳参数。"
   ]
  },
  {
   "cell_type": "code",
   "execution_count": null,
   "metadata": {},
   "outputs": [],
   "source": [
    "#调参环节\n",
    "cv_params = {'reg_lambda': [0.05, 0.1, 1, 2, 3]}\n",
    "other_params = {'colsample_bytree':0.6, 'gamma':0.3,\n",
    "                             'learning_rate':0.1, 'max_depth':10,\n",
    "                             'min_child_weight':4,'n_estimators':1500,\n",
    "                             'reg_alpha':2, 'reg_lambda':1,\n",
    "                             'subsample':1.0, 'silent':False,\n",
    "                             'random_state':7}\n",
    "\n",
    "model = xgb.XGBRegressor(**other_params)\n",
    "optimized_GBM = GridSearchCV(estimator=model,param_grid=cv_params,scoring='r2',cv=5,verbose=1,n_jobs=4)\n",
    "optimized_GBM.fit(train,y_train)\n",
    "evalute_result = optimized_GBM.cv_results_\n",
    "print('每轮迭代运行结果:{0}'.format(evalute_result))\n",
    "print('参数的最佳取值:{0}'.format(optimized_GBM.best_params_))\n",
    "print('最佳模型得分:{0}'.format(optimized_GBM.best_score_))\n"
   ]
  },
  {
   "cell_type": "raw",
   "metadata": {},
   "source": [
    "调参也是一门学问，在浏览了众多博客之后，发现很多博客调参都很乱，这样达不到实际最佳效果，在此也还没有摸索到最佳的参数调节顺序，待博主进一步学习之后会写一篇专门的研究调参顺序的博客，此次就只给出一个调节代码，大家可以自行搜索xgb调参来完善。"
   ]
  },
  {
   "cell_type": "code",
   "execution_count": null,
   "metadata": {},
   "outputs": [],
   "source": [
    "#调节完之后的最佳模型参数\n",
    "model_xgb = xgb.XGBRegressor(colsample_bytree=0.8, gamma=0.2,\n",
    "                             learning_rate=0.05, max_depth=10,\n",
    "                             min_child_weight=1, n_estimators=2226,\n",
    "                             reg_alpha=0.5, reg_lambda=0.01,\n",
    "                             subsample=0.8, silent=False,\n",
    "                             random_state=7)"
   ]
  },
  {
   "cell_type": "raw",
   "metadata": {},
   "source": [
    "比赛评分标准是均方差，我们可以在线下先进行验证，等待验证效果足够好之后再提交到比赛平台，我在这次比赛中线下验证效果良好，但是提交到平台得分稍微差点，还没有找到原因。"
   ]
  },
  {
   "cell_type": "code",
   "execution_count": null,
   "metadata": {},
   "outputs": [],
   "source": [
    "#均方根函数\n",
    "def rmsle(y, y_pred):\n",
    "    return np.sqrt(mean_squared_error(y, y_pred))"
   ]
  },
  {
   "cell_type": "raw",
   "metadata": {},
   "source": [
    "最后就是将预测结果写入csv文件中，提交到平台的便是这个csv文件。"
   ]
  },
  {
   "cell_type": "code",
   "execution_count": null,
   "metadata": {},
   "outputs": [],
   "source": [
    "sub = pd.DataFrame()\n",
    "sub['id'] = id\n",
    "sub['price'] = xgb_pred\n",
    "sub.to_csv('sample.csv', index=False)"
   ]
  },
  {
   "cell_type": "raw",
   "metadata": {},
   "source": [
    "这次比赛最终我们提交的是我队友的文件，他进一步进行了lgb模型的调参以及模型融合，当然你还可以选取更多的模型进行测试，本次比赛有一个bug，那就是在A榜我们成绩在前十名，然而B榜成绩下滑到了三十名开外，最终只得到二等奖，稍有遗憾，分析原因可能还是因为过拟合了，在过拟合这个问题上我们没有充分重视，大家在实战中可以通过画出学习曲线或者进一步调节参数中的max_depth来解决过拟合问题。"
   ]
  },
  {
   "cell_type": "raw",
   "metadata": {},
   "source": [
    "后记：本次比赛也算是入门大数据方向了吧，但是前路漫漫，何其艰辛，仅以此记，聊表欣慰。不足之处，请多海涵。比赛所用源代码大家可以到我的github进行查看或者下载。"
   ]
  }
 ],
 "metadata": {
  "kernelspec": {
   "display_name": "Python 3",
   "language": "python",
   "name": "python3"
  },
  "language_info": {
   "codemirror_mode": {
    "name": "ipython",
    "version": 3
   },
   "file_extension": ".py",
   "mimetype": "text/x-python",
   "name": "python",
   "nbconvert_exporter": "python",
   "pygments_lexer": "ipython3",
   "version": "3.7.0"
  }
 },
 "nbformat": 4,
 "nbformat_minor": 2
}
